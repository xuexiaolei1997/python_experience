{
 "cells": [
  {
   "cell_type": "code",
   "execution_count": 1,
   "metadata": {},
   "outputs": [],
   "source": [
    "import threadpool"
   ]
  },
  {
   "cell_type": "code",
   "execution_count": 2,
   "metadata": {},
   "outputs": [],
   "source": [
    "# task number\n",
    "taskNumber = 10"
   ]
  },
  {
   "cell_type": "code",
   "execution_count": 3,
   "metadata": {},
   "outputs": [],
   "source": [
    "def multi_thread_pool(taskNumber, func, args,):\n",
    "    # init pool\n",
    "    taskPool = threadpool.ThreadPool(taskNumber)\n",
    "    # args: list\n",
    "    args_ = [(arg, None) for arg in args]\n",
    "    requests = threadpool.makeRequests(func, args_)\n",
    "    [taskPool.putRequest(_) for _ in requests]\n",
    "    taskPool.wait()"
   ]
  },
  {
   "cell_type": "code",
   "execution_count": 4,
   "metadata": {},
   "outputs": [],
   "source": [
    "def test_func(num1, num2):\n",
    "    num = num1 + num2\n",
    "    print('%g + %g = %g\\n' % (num1, num2, num))"
   ]
  },
  {
   "cell_type": "code",
   "execution_count": 5,
   "metadata": {},
   "outputs": [
    {
     "name": "stdout",
     "output_type": "stream",
     "text": [
      "1 + 2 = 3\n",
      "\n",
      "3 + 4 = 7\n",
      "\n",
      "5 + 6 = 11\n",
      "\n",
      "7 + 8 = 15\n",
      "\n",
      "11 + 45 = 56\n",
      "\n",
      "12 + 45 = 57\n",
      "\n",
      "31 + 45 = 76\n",
      "\n",
      "14 + 45 = 59\n",
      "18 + 45 = 63\n",
      "\n",
      "\n"
     ]
    }
   ],
   "source": [
    "args = [[1, 2], [3, 4], [5, 6], [7, 8], [11, 45], [12, 45], [31, 45], [14, 45], [18, 45]]\n",
    "multi_thread_pool(20, func=test_func, args=args)"
   ]
  }
 ],
 "metadata": {
  "kernelspec": {
   "display_name": "Python 3",
   "language": "python",
   "name": "python3"
  },
  "language_info": {
   "codemirror_mode": {
    "name": "ipython",
    "version": 3
   },
   "file_extension": ".py",
   "mimetype": "text/x-python",
   "name": "python",
   "nbconvert_exporter": "python",
   "pygments_lexer": "ipython3",
   "version": "3.6.8"
  }
 },
 "nbformat": 4,
 "nbformat_minor": 2
}
